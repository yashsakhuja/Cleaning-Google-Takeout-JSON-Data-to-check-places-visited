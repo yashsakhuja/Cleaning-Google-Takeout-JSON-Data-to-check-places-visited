{
 "cells": [
  {
   "cell_type": "code",
   "execution_count": 1,
   "id": "947b15ea",
   "metadata": {},
   "outputs": [],
   "source": [
    "import pandas as pd\n",
    "import json\n",
    "import csv"
   ]
  },
  {
   "cell_type": "code",
   "execution_count": 2,
   "id": "162abd96",
   "metadata": {},
   "outputs": [],
   "source": [
    "#Converting csv to json\n",
    "\n",
    "#opening the jsonfile and loading it to variable jsondata\n",
    "with open('2023_JANUARY.json') as json_file:\n",
    "    jsondata = json.load(json_file)\n",
    "\n",
    "#taking out the outer dictionary by filtering out only timelineObjects key\n",
    "User_data=jsondata['timelineObjects']\n",
    "\n",
    "#creating a csv file to write rows in the csv format\n",
    "data_file = open('2023_JANUARY.csv', 'w', newline='',)\n",
    "csv_writer = csv.writer(data_file)\n",
    "\n",
    "#if count==0 adding the header row else adding every row element\n",
    "count = 0\n",
    "for data in User_data:\n",
    "    if count == 0:\n",
    "        header = data.keys()\n",
    "        csv_writer.writerow(header)\n",
    "        count += 1\n",
    "    csv_writer.writerow(data.values())\n",
    "\n",
    "data_file.close()"
   ]
  },
  {
   "cell_type": "code",
   "execution_count": 3,
   "id": "a603832d",
   "metadata": {},
   "outputs": [
    {
     "data": {
      "text/plain": [
       "dict_keys(['startLocation', 'endLocation', 'duration', 'distance', 'activityType', 'confidence', 'activities', 'waypointPath', 'simplifiedRawPath'])"
      ]
     },
     "execution_count": 3,
     "metadata": {},
     "output_type": "execute_result"
    }
   ],
   "source": [
    "#checking the important keys from the outer key activity segment\n",
    "User_data[1]['activitySegment'].keys()"
   ]
  },
  {
   "cell_type": "code",
   "execution_count": 4,
   "id": "45d76199",
   "metadata": {},
   "outputs": [
    {
     "data": {
      "text/plain": [
       "dict_keys(['location', 'duration', 'placeConfidence', 'centerLatE7', 'centerLngE7', 'visitConfidence', 'otherCandidateLocations', 'editConfirmationStatus', 'locationConfidence', 'placeVisitType', 'placeVisitImportance'])"
      ]
     },
     "execution_count": 4,
     "metadata": {},
     "output_type": "execute_result"
    }
   ],
   "source": [
    "#checking the important keys from the outer key placeVisit\n",
    "User_data[0]['placeVisit'].keys()"
   ]
  },
  {
   "cell_type": "code",
   "execution_count": 6,
   "id": "bdecec8f",
   "metadata": {},
   "outputs": [],
   "source": [
    "#counter variables and empty list to store required variables\n",
    "c=0\n",
    "data=[]\n",
    "\n",
    "#keys user want to take out from the geo-spatial data file\n",
    "k=['location','duration']\n",
    "\n",
    "#forming a list for the required variables\n",
    "for i in range(0,234):\n",
    "    if(list(User_data[i].keys())[0]=='placeVisit')==True:\n",
    "        c=c+1\n",
    "        data.append([User_data[i]['placeVisit'].get(keys) for keys in k])"
   ]
  },
  {
   "cell_type": "code",
   "execution_count": 7,
   "id": "b9ace46f",
   "metadata": {},
   "outputs": [
    {
     "data": {
      "text/plain": [
       "[{'latitudeE7': 534818449,\n",
       "  'longitudeE7': -22363949,\n",
       "  'placeId': 'ChIJF7sSPr-xe0gRNc2jgIsSv2Y',\n",
       "  'address': '4 Oldham St, Manchester M1 1JQ, UK',\n",
       "  'name': 'The Crafty Pig, Manchester',\n",
       "  'sourceInfo': {'deviceTag': 1063353022},\n",
       "  'locationConfidence': 43.82843,\n",
       "  'calibratedProbability': 31.709196},\n",
       " {'startTimestamp': '2023-01-01T00:16:11.398Z',\n",
       "  'endTimestamp': '2023-01-01T01:32:40.420Z'}]"
      ]
     },
     "execution_count": 7,
     "metadata": {},
     "output_type": "execute_result"
    }
   ],
   "source": [
    "#identifying keys from within the dictionary key of placeVisit\n",
    "[User_data[0]['placeVisit'].get(keys) for keys in k]"
   ]
  },
  {
   "cell_type": "code",
   "execution_count": 8,
   "id": "2a6783ff",
   "metadata": {},
   "outputs": [],
   "source": [
    "#Now, each list has 2 dictionaries with a total of 234 lists within one single outer lists"
   ]
  },
  {
   "cell_type": "code",
   "execution_count": 9,
   "id": "bfe7139c",
   "metadata": {},
   "outputs": [],
   "source": [
    "#make two separate lists l1 & l2\n",
    "l1=[]\n",
    "l2=[]\n",
    "for i in range(0,c):\n",
    "    l1.append(data[i][0])\n",
    "    l2.append(data[i][1])"
   ]
  },
  {
   "cell_type": "code",
   "execution_count": 32,
   "id": "da055f2c",
   "metadata": {},
   "outputs": [],
   "source": [
    "#taking elements of l2 and adding it to l1\n",
    "for i in range(0,c):\n",
    "    l1[i].update(l2[i])"
   ]
  },
  {
   "cell_type": "code",
   "execution_count": 10,
   "id": "c0193acb",
   "metadata": {},
   "outputs": [
    {
     "data": {
      "text/plain": [
       "{'latitudeE7': 534818449,\n",
       " 'longitudeE7': -22363949,\n",
       " 'placeId': 'ChIJF7sSPr-xe0gRNc2jgIsSv2Y',\n",
       " 'address': '4 Oldham St, Manchester M1 1JQ, UK',\n",
       " 'name': 'The Crafty Pig, Manchester',\n",
       " 'sourceInfo': {'deviceTag': 1063353022},\n",
       " 'locationConfidence': 43.82843,\n",
       " 'calibratedProbability': 31.709196}"
      ]
     },
     "execution_count": 10,
     "metadata": {},
     "output_type": "execute_result"
    }
   ],
   "source": [
    "l1[0]"
   ]
  },
  {
   "cell_type": "code",
   "execution_count": 11,
   "id": "734f7c9b",
   "metadata": {},
   "outputs": [],
   "source": [
    "#converting the final dictionary to a pandas dataframe\n",
    "final_data=pd.DataFrame.from_dict(l1)"
   ]
  },
  {
   "cell_type": "code",
   "execution_count": 12,
   "id": "057576e8",
   "metadata": {},
   "outputs": [
    {
     "data": {
      "text/html": [
       "<div>\n",
       "<style scoped>\n",
       "    .dataframe tbody tr th:only-of-type {\n",
       "        vertical-align: middle;\n",
       "    }\n",
       "\n",
       "    .dataframe tbody tr th {\n",
       "        vertical-align: top;\n",
       "    }\n",
       "\n",
       "    .dataframe thead th {\n",
       "        text-align: right;\n",
       "    }\n",
       "</style>\n",
       "<table border=\"1\" class=\"dataframe\">\n",
       "  <thead>\n",
       "    <tr style=\"text-align: right;\">\n",
       "      <th></th>\n",
       "      <th>latitudeE7</th>\n",
       "      <th>longitudeE7</th>\n",
       "      <th>placeId</th>\n",
       "      <th>address</th>\n",
       "      <th>name</th>\n",
       "      <th>sourceInfo</th>\n",
       "      <th>locationConfidence</th>\n",
       "      <th>calibratedProbability</th>\n",
       "      <th>semanticType</th>\n",
       "    </tr>\n",
       "  </thead>\n",
       "  <tbody>\n",
       "    <tr>\n",
       "      <th>0</th>\n",
       "      <td>534818449</td>\n",
       "      <td>-22363949</td>\n",
       "      <td>ChIJF7sSPr-xe0gRNc2jgIsSv2Y</td>\n",
       "      <td>4 Oldham St, Manchester M1 1JQ, UK</td>\n",
       "      <td>The Crafty Pig, Manchester</td>\n",
       "      <td>{'deviceTag': 1063353022}</td>\n",
       "      <td>43.828430</td>\n",
       "      <td>31.709196</td>\n",
       "      <td>NaN</td>\n",
       "    </tr>\n",
       "    <tr>\n",
       "      <th>1</th>\n",
       "      <td>534805152</td>\n",
       "      <td>-22379620</td>\n",
       "      <td>ChIJ4U9xgr-xe0gREtc8YTkl0HA</td>\n",
       "      <td>Manchester M1 1AF, UK</td>\n",
       "      <td>Piccadilly Gardens</td>\n",
       "      <td>{'deviceTag': 1063353022}</td>\n",
       "      <td>83.153630</td>\n",
       "      <td>76.059456</td>\n",
       "      <td>NaN</td>\n",
       "    </tr>\n",
       "    <tr>\n",
       "      <th>2</th>\n",
       "      <td>534570023</td>\n",
       "      <td>-22165686</td>\n",
       "      <td>ChIJvWJir4Cxe0gRIsdNYmZiy-g</td>\n",
       "      <td>2 Hope Rd, Manchester M14 5ET, UK</td>\n",
       "      <td>iQ Student Accommodation Manchester Gardens</td>\n",
       "      <td>{'deviceTag': 1063353022}</td>\n",
       "      <td>49.590263</td>\n",
       "      <td>42.950420</td>\n",
       "      <td>NaN</td>\n",
       "    </tr>\n",
       "    <tr>\n",
       "      <th>3</th>\n",
       "      <td>534668498</td>\n",
       "      <td>-22338837</td>\n",
       "      <td>ChIJIaFhiI6xe0gRPPt-xlAzuXw</td>\n",
       "      <td>Oxford Rd, Manchester M13 9PL, UK</td>\n",
       "      <td>The University of Manchester</td>\n",
       "      <td>{'deviceTag': 1063353022}</td>\n",
       "      <td>86.524280</td>\n",
       "      <td>89.111270</td>\n",
       "      <td>NaN</td>\n",
       "    </tr>\n",
       "    <tr>\n",
       "      <th>4</th>\n",
       "      <td>534587243</td>\n",
       "      <td>-22269084</td>\n",
       "      <td>ChIJ7Sx5q4mxe0gRD50UIiEMjLE</td>\n",
       "      <td>Wilmslow Park, Wilmslow Rd, Rusholme, Manchest...</td>\n",
       "      <td>Tesco Express</td>\n",
       "      <td>{'deviceTag': 1063353022}</td>\n",
       "      <td>87.909720</td>\n",
       "      <td>68.877370</td>\n",
       "      <td>NaN</td>\n",
       "    </tr>\n",
       "  </tbody>\n",
       "</table>\n",
       "</div>"
      ],
      "text/plain": [
       "   latitudeE7  longitudeE7                      placeId  \\\n",
       "0   534818449    -22363949  ChIJF7sSPr-xe0gRNc2jgIsSv2Y   \n",
       "1   534805152    -22379620  ChIJ4U9xgr-xe0gREtc8YTkl0HA   \n",
       "2   534570023    -22165686  ChIJvWJir4Cxe0gRIsdNYmZiy-g   \n",
       "3   534668498    -22338837  ChIJIaFhiI6xe0gRPPt-xlAzuXw   \n",
       "4   534587243    -22269084  ChIJ7Sx5q4mxe0gRD50UIiEMjLE   \n",
       "\n",
       "                                             address  \\\n",
       "0                 4 Oldham St, Manchester M1 1JQ, UK   \n",
       "1                              Manchester M1 1AF, UK   \n",
       "2                  2 Hope Rd, Manchester M14 5ET, UK   \n",
       "3                  Oxford Rd, Manchester M13 9PL, UK   \n",
       "4  Wilmslow Park, Wilmslow Rd, Rusholme, Manchest...   \n",
       "\n",
       "                                          name                 sourceInfo  \\\n",
       "0                   The Crafty Pig, Manchester  {'deviceTag': 1063353022}   \n",
       "1                           Piccadilly Gardens  {'deviceTag': 1063353022}   \n",
       "2  iQ Student Accommodation Manchester Gardens  {'deviceTag': 1063353022}   \n",
       "3                 The University of Manchester  {'deviceTag': 1063353022}   \n",
       "4                                Tesco Express  {'deviceTag': 1063353022}   \n",
       "\n",
       "   locationConfidence  calibratedProbability semanticType  \n",
       "0           43.828430              31.709196          NaN  \n",
       "1           83.153630              76.059456          NaN  \n",
       "2           49.590263              42.950420          NaN  \n",
       "3           86.524280              89.111270          NaN  \n",
       "4           87.909720              68.877370          NaN  "
      ]
     },
     "execution_count": 12,
     "metadata": {},
     "output_type": "execute_result"
    }
   ],
   "source": [
    "final_data[0:5]"
   ]
  },
  {
   "cell_type": "code",
   "execution_count": 13,
   "id": "543bd43c",
   "metadata": {},
   "outputs": [],
   "source": [
    "a=['sourceInfo','semanticType']\n",
    "final_data=final_data.drop(a,axis=1)"
   ]
  },
  {
   "cell_type": "code",
   "execution_count": 14,
   "id": "3bf5b9df",
   "metadata": {},
   "outputs": [
    {
     "data": {
      "text/html": [
       "<div>\n",
       "<style scoped>\n",
       "    .dataframe tbody tr th:only-of-type {\n",
       "        vertical-align: middle;\n",
       "    }\n",
       "\n",
       "    .dataframe tbody tr th {\n",
       "        vertical-align: top;\n",
       "    }\n",
       "\n",
       "    .dataframe thead th {\n",
       "        text-align: right;\n",
       "    }\n",
       "</style>\n",
       "<table border=\"1\" class=\"dataframe\">\n",
       "  <thead>\n",
       "    <tr style=\"text-align: right;\">\n",
       "      <th></th>\n",
       "      <th>latitudeE7</th>\n",
       "      <th>longitudeE7</th>\n",
       "      <th>placeId</th>\n",
       "      <th>address</th>\n",
       "      <th>name</th>\n",
       "      <th>locationConfidence</th>\n",
       "      <th>calibratedProbability</th>\n",
       "    </tr>\n",
       "  </thead>\n",
       "  <tbody>\n",
       "    <tr>\n",
       "      <th>0</th>\n",
       "      <td>534818449</td>\n",
       "      <td>-22363949</td>\n",
       "      <td>ChIJF7sSPr-xe0gRNc2jgIsSv2Y</td>\n",
       "      <td>4 Oldham St, Manchester M1 1JQ, UK</td>\n",
       "      <td>The Crafty Pig, Manchester</td>\n",
       "      <td>43.828430</td>\n",
       "      <td>31.709196</td>\n",
       "    </tr>\n",
       "    <tr>\n",
       "      <th>1</th>\n",
       "      <td>534805152</td>\n",
       "      <td>-22379620</td>\n",
       "      <td>ChIJ4U9xgr-xe0gREtc8YTkl0HA</td>\n",
       "      <td>Manchester M1 1AF, UK</td>\n",
       "      <td>Piccadilly Gardens</td>\n",
       "      <td>83.153630</td>\n",
       "      <td>76.059456</td>\n",
       "    </tr>\n",
       "    <tr>\n",
       "      <th>2</th>\n",
       "      <td>534570023</td>\n",
       "      <td>-22165686</td>\n",
       "      <td>ChIJvWJir4Cxe0gRIsdNYmZiy-g</td>\n",
       "      <td>2 Hope Rd, Manchester M14 5ET, UK</td>\n",
       "      <td>iQ Student Accommodation Manchester Gardens</td>\n",
       "      <td>49.590263</td>\n",
       "      <td>42.950420</td>\n",
       "    </tr>\n",
       "    <tr>\n",
       "      <th>3</th>\n",
       "      <td>534668498</td>\n",
       "      <td>-22338837</td>\n",
       "      <td>ChIJIaFhiI6xe0gRPPt-xlAzuXw</td>\n",
       "      <td>Oxford Rd, Manchester M13 9PL, UK</td>\n",
       "      <td>The University of Manchester</td>\n",
       "      <td>86.524280</td>\n",
       "      <td>89.111270</td>\n",
       "    </tr>\n",
       "    <tr>\n",
       "      <th>4</th>\n",
       "      <td>534587243</td>\n",
       "      <td>-22269084</td>\n",
       "      <td>ChIJ7Sx5q4mxe0gRD50UIiEMjLE</td>\n",
       "      <td>Wilmslow Park, Wilmslow Rd, Rusholme, Manchest...</td>\n",
       "      <td>Tesco Express</td>\n",
       "      <td>87.909720</td>\n",
       "      <td>68.877370</td>\n",
       "    </tr>\n",
       "  </tbody>\n",
       "</table>\n",
       "</div>"
      ],
      "text/plain": [
       "   latitudeE7  longitudeE7                      placeId  \\\n",
       "0   534818449    -22363949  ChIJF7sSPr-xe0gRNc2jgIsSv2Y   \n",
       "1   534805152    -22379620  ChIJ4U9xgr-xe0gREtc8YTkl0HA   \n",
       "2   534570023    -22165686  ChIJvWJir4Cxe0gRIsdNYmZiy-g   \n",
       "3   534668498    -22338837  ChIJIaFhiI6xe0gRPPt-xlAzuXw   \n",
       "4   534587243    -22269084  ChIJ7Sx5q4mxe0gRD50UIiEMjLE   \n",
       "\n",
       "                                             address  \\\n",
       "0                 4 Oldham St, Manchester M1 1JQ, UK   \n",
       "1                              Manchester M1 1AF, UK   \n",
       "2                  2 Hope Rd, Manchester M14 5ET, UK   \n",
       "3                  Oxford Rd, Manchester M13 9PL, UK   \n",
       "4  Wilmslow Park, Wilmslow Rd, Rusholme, Manchest...   \n",
       "\n",
       "                                          name  locationConfidence  \\\n",
       "0                   The Crafty Pig, Manchester           43.828430   \n",
       "1                           Piccadilly Gardens           83.153630   \n",
       "2  iQ Student Accommodation Manchester Gardens           49.590263   \n",
       "3                 The University of Manchester           86.524280   \n",
       "4                                Tesco Express           87.909720   \n",
       "\n",
       "   calibratedProbability  \n",
       "0              31.709196  \n",
       "1              76.059456  \n",
       "2              42.950420  \n",
       "3              89.111270  \n",
       "4              68.877370  "
      ]
     },
     "execution_count": 14,
     "metadata": {},
     "output_type": "execute_result"
    }
   ],
   "source": [
    "final_data.head()"
   ]
  },
  {
   "cell_type": "code",
   "execution_count": 15,
   "id": "01843662",
   "metadata": {},
   "outputs": [],
   "source": [
    "#exporting data to csv\n",
    "final_data.to_csv('January_2023.csv',index=False)"
   ]
  }
 ],
 "metadata": {
  "kernelspec": {
   "display_name": "Python 3 (ipykernel)",
   "language": "python",
   "name": "python3"
  },
  "language_info": {
   "codemirror_mode": {
    "name": "ipython",
    "version": 3
   },
   "file_extension": ".py",
   "mimetype": "text/x-python",
   "name": "python",
   "nbconvert_exporter": "python",
   "pygments_lexer": "ipython3",
   "version": "3.10.10"
  }
 },
 "nbformat": 4,
 "nbformat_minor": 5
}
